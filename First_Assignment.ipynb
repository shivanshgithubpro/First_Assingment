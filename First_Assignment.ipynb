{
 "cells": [
  {
   "cell_type": "code",
   "execution_count": null,
   "id": "7f3d093a-7623-4a94-87aa-5737b63bf4ee",
   "metadata": {},
   "outputs": [],
   "source": []
  },
  {
   "cell_type": "code",
   "execution_count": 1,
   "id": "78135cdd-f86f-4276-b0f5-c82af3eac7fc",
   "metadata": {},
   "outputs": [
    {
     "name": "stdout",
     "output_type": "stream",
     "text": [
      "<class 'str'> <class 'list'> <class 'float'> <class 'tuple'>\n"
     ]
    }
   ],
   "source": [
    "#Q1. Create one variable containing following type of data:\n",
    "#(i) string\n",
    "#(ii) list\n",
    "#(iii) float\n",
    "#(iv) tuple\n",
    "\n",
    "#Answer:-\n",
    "\n",
    "a=\"shiv\"\n",
    "l=[12,1.2,True,\"pw\",4+5j]\n",
    "b=22.2\n",
    "c=(90,\"tup\",2.2)\n",
    "print(type(a), type(l), type(b), type(c))\n"
   ]
  },
  {
   "cell_type": "code",
   "execution_count": 2,
   "id": "a601ab20-ef92-4500-88f6-802095cbadb4",
   "metadata": {},
   "outputs": [],
   "source": [
    "##Q2. Given are some following variables containing data:\n",
    "#(i) var1 = ‘ ‘\n",
    "#(ii) var2 = ‘[ DS , ML , Python]’\n",
    "#(iii) var3 = [ ‘DS’ , ’ML’ , ‘Python’ ]\n",
    "#(iv) var4 = 1.\n",
    "#What will be the data type of the above given variable.\n",
    "#Answer\n",
    "#(1) string\n",
    "#(2) string\n",
    "#(3)list\n",
    "#(4)float"
   ]
  },
  {
   "cell_type": "code",
   "execution_count": 3,
   "id": "2db5c92e-1e5b-42d2-930b-6453db79de88",
   "metadata": {},
   "outputs": [],
   "source": [
    "###Q3. Explain the use of the following operators using an example:\n",
    "#(i) /\n",
    "#(ii) %\n",
    "#(iii) //\n",
    "#(iv) **\n"
   ]
  },
  {
   "cell_type": "code",
   "execution_count": 4,
   "id": "daca9f93-6755-4ca3-90e8-75d79050f6b5",
   "metadata": {},
   "outputs": [
    {
     "data": {
      "text/plain": [
       "10.0"
      ]
     },
     "execution_count": 4,
     "metadata": {},
     "output_type": "execute_result"
    }
   ],
   "source": [
    "#(1) /, it gives the Quotient in the Output.\n",
    "30/3"
   ]
  },
  {
   "cell_type": "code",
   "execution_count": 5,
   "id": "5e0aef49-6496-43e4-a91f-3657c67226f8",
   "metadata": {},
   "outputs": [
    {
     "data": {
      "text/plain": [
       "2"
      ]
     },
     "execution_count": 5,
     "metadata": {},
     "output_type": "execute_result"
    }
   ],
   "source": [
    "#(2) %, it gives the remainder.\n",
    "44%3"
   ]
  },
  {
   "cell_type": "code",
   "execution_count": 6,
   "id": "bc60f454-f190-44bd-87c3-e72816f6b4cf",
   "metadata": {},
   "outputs": [
    {
     "data": {
      "text/plain": [
       "5"
      ]
     },
     "execution_count": 6,
     "metadata": {},
     "output_type": "execute_result"
    }
   ],
   "source": [
    "#(3) //, it gives the quotient by making it to equivalent integer.\n",
    "10//2"
   ]
  },
  {
   "cell_type": "code",
   "execution_count": 7,
   "id": "6e658ad9-5fa1-4156-b944-bb0c0ce0b540",
   "metadata": {},
   "outputs": [
    {
     "data": {
      "text/plain": [
       "9"
      ]
     },
     "execution_count": 7,
     "metadata": {},
     "output_type": "execute_result"
    }
   ],
   "source": [
    "#(4) **,it is a exponential operator, which takes the right hand side value to the poqer of the left hand side value.\n",
    "3**2"
   ]
  },
  {
   "cell_type": "code",
   "execution_count": 8,
   "id": "966b2607-6234-4f5e-a587-fdcac8dabd3e",
   "metadata": {},
   "outputs": [
    {
     "name": "stdout",
     "output_type": "stream",
     "text": [
      "1 <class 'int'>\n",
      "2.3 <class 'float'>\n",
      "(45+2j) <class 'complex'>\n",
      "6 <class 'int'>\n",
      "shiv <class 'str'>\n",
      "True <class 'bool'>\n",
      "4.6 <class 'float'>\n",
      "(2+3j) <class 'complex'>\n",
      "linkdin <class 'str'>\n",
      "9999 <class 'int'>\n"
     ]
    }
   ],
   "source": [
    "##Q4. Create a list of length 10 of your choice containing multiple types of data. Using for loop print the element and its data type.\n",
    "list = [1,2.3,45+2j,6,\"shiv\",True,4.6,2+3j,\"linkdin\",9999]\n",
    "for i in list :\n",
    "    print(i,type(i))"
   ]
  },
  {
   "cell_type": "code",
   "execution_count": 10,
   "id": "a211f3f5-90e4-45b7-9e38-dd064650616a",
   "metadata": {},
   "outputs": [
    {
     "name": "stdin",
     "output_type": "stream",
     "text": [
      "a 44\n",
      "b 4\n"
     ]
    },
    {
     "name": "stdout",
     "output_type": "stream",
     "text": [
      "a is purely divisible by b and a is divisible by b for 11.0 times\n"
     ]
    }
   ],
   "source": [
    "###Q5. Using a while loop, verify if the number A is purely divisible by number B and if so then how many times it can be divisible.\n",
    "a=int(input(\"a\"))\n",
    "b=int(input(\"b\"))\n",
    "while a%b==0:\n",
    "    print('a is purely divisible by b', 'and a is divisible by b for', a/b, 'times')\n",
    "    break\n",
    "else:\n",
    "    print('a is not divisible by b')\n"
   ]
  },
  {
   "cell_type": "code",
   "execution_count": 11,
   "id": "437f07c1-56f5-4f19-ac70-b9348416bc27",
   "metadata": {},
   "outputs": [
    {
     "name": "stdout",
     "output_type": "stream",
     "text": [
      "1 is not divisible by 3\n",
      "22 is not divisible by 3\n",
      "33 is divisible by 3\n",
      "45 is divisible by 3\n",
      "51 is divisible by 3\n",
      "6 is divisible by 3\n",
      "72 is divisible by 3\n",
      "81 is divisible by 3\n",
      "9 is divisible by 3\n",
      "10 is not divisible by 3\n",
      "11 is not divisible by 3\n",
      "12 is divisible by 3\n",
      "13 is not divisible by 3\n",
      "14 is not divisible by 3\n",
      "15 is divisible by 3\n",
      "16 is not divisible by 3\n",
      "17 is not divisible by 3\n",
      "18 is divisible by 3\n",
      "19 is not divisible by 3\n",
      "20 is not divisible by 3\n",
      "21 is divisible by 3\n",
      "22 is not divisible by 3\n",
      "23 is not divisible by 3\n",
      "24 is divisible by 3\n",
      "25 is not divisible by 3\n"
     ]
    }
   ],
   "source": [
    "##Q6. Create a list containing 25 int type data. Using for loop and if-else condition print if the element is divisible by 3 or not.\n",
    "a=[1,22,33,45,51,6,72,81,9,10,11,12,13,14,15,16,17,18,19,20,21,22,23,24,25]\n",
    "for i in a:\n",
    "    if i%3==0:\n",
    "        print(i, 'is divisible by 3')\n",
    "    else:\n",
    "            print(i, 'is not divisible by 3')"
   ]
  },
  {
   "cell_type": "code",
   "execution_count": 12,
   "id": "0d20ee91-2b28-4e5c-8b91-d3a56fc2580e",
   "metadata": {},
   "outputs": [],
   "source": [
    "###Q7. What do you understand about mutable and immutable data types? Give examples for both showing this property.\n",
    "#Answer:-\n",
    "#immutable data type:- A data type which cannot be eddited without affecting the object’s identity.\n",
    "#example"
   ]
  },
  {
   "cell_type": "code",
   "execution_count": 15,
   "id": "47e5e77c-8807-48a3-973b-d0dc53e2590b",
   "metadata": {},
   "outputs": [],
   "source": [
    "a1=(\"shiv\",2,44)"
   ]
  },
  {
   "cell_type": "code",
   "execution_count": 16,
   "id": "1b64509b-084a-4dca-83eb-099dbd95f3d4",
   "metadata": {},
   "outputs": [
    {
     "data": {
      "text/plain": [
       "tuple"
      ]
     },
     "execution_count": 16,
     "metadata": {},
     "output_type": "execute_result"
    }
   ],
   "source": [
    "type(a1)"
   ]
  },
  {
   "cell_type": "code",
   "execution_count": 17,
   "id": "43147b5a-5eb0-4ee5-9b6a-9a5eb3306379",
   "metadata": {},
   "outputs": [
    {
     "ename": "TypeError",
     "evalue": "'tuple' object does not support item assignment",
     "output_type": "error",
     "traceback": [
      "\u001b[0;31m---------------------------------------------------------------------------\u001b[0m",
      "\u001b[0;31mTypeError\u001b[0m                                 Traceback (most recent call last)",
      "Cell \u001b[0;32mIn[17], line 1\u001b[0m\n\u001b[0;32m----> 1\u001b[0m \u001b[43ma1\u001b[49m\u001b[43m[\u001b[49m\u001b[38;5;241;43m0\u001b[39;49m\u001b[43m]\u001b[49m\u001b[38;5;241m=\u001b[39m\u001b[38;5;124m\"\u001b[39m\u001b[38;5;124mpw\u001b[39m\u001b[38;5;124m\"\u001b[39m\n",
      "\u001b[0;31mTypeError\u001b[0m: 'tuple' object does not support item assignment"
     ]
    }
   ],
   "source": [
    "a1[0]=\"pw\""
   ]
  },
  {
   "cell_type": "code",
   "execution_count": 18,
   "id": "1c0d01c1-c6ac-4541-9c07-a10b73861251",
   "metadata": {},
   "outputs": [],
   "source": [
    "##Mutable data type: A data type which can be eddited without affecting the object's identity.\n",
    "l=[\"pwskill's\",22,33,3.3]\n"
   ]
  },
  {
   "cell_type": "code",
   "execution_count": 19,
   "id": "3467ce4e-414f-43ee-b692-54a7edc242e7",
   "metadata": {},
   "outputs": [
    {
     "data": {
      "text/plain": [
       "list"
      ]
     },
     "execution_count": 19,
     "metadata": {},
     "output_type": "execute_result"
    }
   ],
   "source": [
    "type(l)"
   ]
  },
  {
   "cell_type": "code",
   "execution_count": 20,
   "id": "4d932161-f2e4-419e-addd-19778be4a4a0",
   "metadata": {},
   "outputs": [],
   "source": [
    "l[0]=\"shiv\""
   ]
  },
  {
   "cell_type": "code",
   "execution_count": 21,
   "id": "a0bd96d5-561a-4441-b735-18ed67effa24",
   "metadata": {},
   "outputs": [
    {
     "data": {
      "text/plain": [
       "['shiv', 22, 33, 3.3]"
      ]
     },
     "execution_count": 21,
     "metadata": {},
     "output_type": "execute_result"
    }
   ],
   "source": [
    "l"
   ]
  },
  {
   "cell_type": "code",
   "execution_count": null,
   "id": "d9a98de9-12fe-4d1e-b3b3-ece836e20a81",
   "metadata": {},
   "outputs": [],
   "source": []
  }
 ],
 "metadata": {
  "kernelspec": {
   "display_name": "Python 3 (ipykernel)",
   "language": "python",
   "name": "python3"
  },
  "language_info": {
   "codemirror_mode": {
    "name": "ipython",
    "version": 3
   },
   "file_extension": ".py",
   "mimetype": "text/x-python",
   "name": "python",
   "nbconvert_exporter": "python",
   "pygments_lexer": "ipython3",
   "version": "3.10.8"
  }
 },
 "nbformat": 4,
 "nbformat_minor": 5
}
